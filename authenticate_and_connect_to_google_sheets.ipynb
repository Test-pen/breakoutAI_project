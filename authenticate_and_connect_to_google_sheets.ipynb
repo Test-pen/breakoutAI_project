{
  "cells": [
    {
      "cell_type": "markdown",
      "metadata": {
        "id": "view-in-github",
        "colab_type": "text"
      },
      "source": [
        "<a href=\"https://colab.research.google.com/github/Test-pen/breakoutAI_project/blob/main/authenticate_and_connect_to_google_sheets.ipynb\" target=\"_parent\"><img src=\"https://colab.research.google.com/assets/colab-badge.svg\" alt=\"Open In Colab\"/></a>"
      ]
    },
    {
      "cell_type": "markdown",
      "metadata": {
        "id": "98UAO29dHKTj"
      },
      "source": [
        "\n",
        "# install the package\n"
      ]
    },
    {
      "cell_type": "code",
      "execution_count": null,
      "metadata": {
        "colab": {
          "base_uri": "https://localhost:8080/"
        },
        "id": "BilgteQiHFgS",
        "outputId": "61b4c6b7-cfa9-4c0d-e3be-875fd8f89381"
      },
      "outputs": [
        {
          "output_type": "stream",
          "name": "stdout",
          "text": [
            "Requirement already satisfied: pip in /usr/local/lib/python3.10/dist-packages (24.1.2)\n",
            "Collecting pip\n",
            "  Downloading pip-24.3.1-py3-none-any.whl.metadata (3.7 kB)\n",
            "Downloading pip-24.3.1-py3-none-any.whl (1.8 MB)\n",
            "\u001b[2K   \u001b[90m━━━━━━━━━━━━━━━━━━━━━━━━━━━━━━━━━━━━━━━━\u001b[0m \u001b[32m1.8/1.8 MB\u001b[0m \u001b[31m24.6 MB/s\u001b[0m eta \u001b[36m0:00:00\u001b[0m\n",
            "\u001b[?25hInstalling collected packages: pip\n",
            "  Attempting uninstall: pip\n",
            "    Found existing installation: pip 24.1.2\n",
            "    Uninstalling pip-24.1.2:\n",
            "      Successfully uninstalled pip-24.1.2\n",
            "Successfully installed pip-24.3.1\n"
          ]
        }
      ],
      "source": [
        "!pip install --upgrade pip\n",
        "\n"
      ]
    },
    {
      "cell_type": "code",
      "execution_count": null,
      "metadata": {
        "colab": {
          "base_uri": "https://localhost:8080/"
        },
        "id": "QHcgAcZDJd7P",
        "outputId": "aa1be708-a221-4870-cf92-985a5f19a96d"
      },
      "outputs": [
        {
          "output_type": "stream",
          "name": "stdout",
          "text": [
            "Requirement already satisfied: gspread in /usr/local/lib/python3.10/dist-packages (6.0.2)\n",
            "Collecting gspread\n",
            "  Downloading gspread-6.1.4-py3-none-any.whl.metadata (11 kB)\n",
            "Requirement already satisfied: google-auth>=1.12.0 in /usr/local/lib/python3.10/dist-packages (from gspread) (2.27.0)\n",
            "Requirement already satisfied: google-auth-oauthlib>=0.4.1 in /usr/local/lib/python3.10/dist-packages (from gspread) (1.2.1)\n",
            "Requirement already satisfied: cachetools<6.0,>=2.0.0 in /usr/local/lib/python3.10/dist-packages (from google-auth>=1.12.0->gspread) (5.5.0)\n",
            "Requirement already satisfied: pyasn1-modules>=0.2.1 in /usr/local/lib/python3.10/dist-packages (from google-auth>=1.12.0->gspread) (0.4.1)\n",
            "Requirement already satisfied: rsa<5,>=3.1.4 in /usr/local/lib/python3.10/dist-packages (from google-auth>=1.12.0->gspread) (4.9)\n",
            "Requirement already satisfied: requests-oauthlib>=0.7.0 in /usr/local/lib/python3.10/dist-packages (from google-auth-oauthlib>=0.4.1->gspread) (1.3.1)\n",
            "Requirement already satisfied: pyasn1<0.7.0,>=0.4.6 in /usr/local/lib/python3.10/dist-packages (from pyasn1-modules>=0.2.1->google-auth>=1.12.0->gspread) (0.6.1)\n",
            "Requirement already satisfied: oauthlib>=3.0.0 in /usr/local/lib/python3.10/dist-packages (from requests-oauthlib>=0.7.0->google-auth-oauthlib>=0.4.1->gspread) (3.2.2)\n",
            "Requirement already satisfied: requests>=2.0.0 in /usr/local/lib/python3.10/dist-packages (from requests-oauthlib>=0.7.0->google-auth-oauthlib>=0.4.1->gspread) (2.32.3)\n",
            "Requirement already satisfied: charset-normalizer<4,>=2 in /usr/local/lib/python3.10/dist-packages (from requests>=2.0.0->requests-oauthlib>=0.7.0->google-auth-oauthlib>=0.4.1->gspread) (3.4.0)\n",
            "Requirement already satisfied: idna<4,>=2.5 in /usr/local/lib/python3.10/dist-packages (from requests>=2.0.0->requests-oauthlib>=0.7.0->google-auth-oauthlib>=0.4.1->gspread) (3.10)\n",
            "Requirement already satisfied: urllib3<3,>=1.21.1 in /usr/local/lib/python3.10/dist-packages (from requests>=2.0.0->requests-oauthlib>=0.7.0->google-auth-oauthlib>=0.4.1->gspread) (2.2.3)\n",
            "Requirement already satisfied: certifi>=2017.4.17 in /usr/local/lib/python3.10/dist-packages (from requests>=2.0.0->requests-oauthlib>=0.7.0->google-auth-oauthlib>=0.4.1->gspread) (2024.8.30)\n",
            "Downloading gspread-6.1.4-py3-none-any.whl (57 kB)\n",
            "Installing collected packages: gspread\n",
            "  Attempting uninstall: gspread\n",
            "    Found existing installation: gspread 6.0.2\n",
            "    Uninstalling gspread-6.0.2:\n",
            "      Successfully uninstalled gspread-6.0.2\n",
            "Successfully installed gspread-6.1.4\n",
            "Requirement already satisfied: gspread-dataframe in /usr/local/lib/python3.10/dist-packages (3.3.1)\n",
            "Collecting gspread-dataframe\n",
            "  Downloading gspread_dataframe-4.0.0-py2.py3-none-any.whl.metadata (4.5 kB)\n",
            "Requirement already satisfied: gspread>=3.0.0 in /usr/local/lib/python3.10/dist-packages (from gspread-dataframe) (6.1.4)\n",
            "Requirement already satisfied: pandas>=0.24.0 in /usr/local/lib/python3.10/dist-packages (from gspread-dataframe) (2.2.2)\n",
            "Requirement already satisfied: six>=1.12.0 in /usr/local/lib/python3.10/dist-packages (from gspread-dataframe) (1.16.0)\n",
            "Requirement already satisfied: google-auth>=1.12.0 in /usr/local/lib/python3.10/dist-packages (from gspread>=3.0.0->gspread-dataframe) (2.27.0)\n",
            "Requirement already satisfied: google-auth-oauthlib>=0.4.1 in /usr/local/lib/python3.10/dist-packages (from gspread>=3.0.0->gspread-dataframe) (1.2.1)\n",
            "Requirement already satisfied: numpy>=1.22.4 in /usr/local/lib/python3.10/dist-packages (from pandas>=0.24.0->gspread-dataframe) (1.26.4)\n",
            "Requirement already satisfied: python-dateutil>=2.8.2 in /usr/local/lib/python3.10/dist-packages (from pandas>=0.24.0->gspread-dataframe) (2.8.2)\n",
            "Requirement already satisfied: pytz>=2020.1 in /usr/local/lib/python3.10/dist-packages (from pandas>=0.24.0->gspread-dataframe) (2024.2)\n",
            "Requirement already satisfied: tzdata>=2022.7 in /usr/local/lib/python3.10/dist-packages (from pandas>=0.24.0->gspread-dataframe) (2024.2)\n",
            "Requirement already satisfied: cachetools<6.0,>=2.0.0 in /usr/local/lib/python3.10/dist-packages (from google-auth>=1.12.0->gspread>=3.0.0->gspread-dataframe) (5.5.0)\n",
            "Requirement already satisfied: pyasn1-modules>=0.2.1 in /usr/local/lib/python3.10/dist-packages (from google-auth>=1.12.0->gspread>=3.0.0->gspread-dataframe) (0.4.1)\n",
            "Requirement already satisfied: rsa<5,>=3.1.4 in /usr/local/lib/python3.10/dist-packages (from google-auth>=1.12.0->gspread>=3.0.0->gspread-dataframe) (4.9)\n",
            "Requirement already satisfied: requests-oauthlib>=0.7.0 in /usr/local/lib/python3.10/dist-packages (from google-auth-oauthlib>=0.4.1->gspread>=3.0.0->gspread-dataframe) (1.3.1)\n",
            "Requirement already satisfied: pyasn1<0.7.0,>=0.4.6 in /usr/local/lib/python3.10/dist-packages (from pyasn1-modules>=0.2.1->google-auth>=1.12.0->gspread>=3.0.0->gspread-dataframe) (0.6.1)\n",
            "Requirement already satisfied: oauthlib>=3.0.0 in /usr/local/lib/python3.10/dist-packages (from requests-oauthlib>=0.7.0->google-auth-oauthlib>=0.4.1->gspread>=3.0.0->gspread-dataframe) (3.2.2)\n",
            "Requirement already satisfied: requests>=2.0.0 in /usr/local/lib/python3.10/dist-packages (from requests-oauthlib>=0.7.0->google-auth-oauthlib>=0.4.1->gspread>=3.0.0->gspread-dataframe) (2.32.3)\n",
            "Requirement already satisfied: charset-normalizer<4,>=2 in /usr/local/lib/python3.10/dist-packages (from requests>=2.0.0->requests-oauthlib>=0.7.0->google-auth-oauthlib>=0.4.1->gspread>=3.0.0->gspread-dataframe) (3.4.0)\n",
            "Requirement already satisfied: idna<4,>=2.5 in /usr/local/lib/python3.10/dist-packages (from requests>=2.0.0->requests-oauthlib>=0.7.0->google-auth-oauthlib>=0.4.1->gspread>=3.0.0->gspread-dataframe) (3.10)\n",
            "Requirement already satisfied: urllib3<3,>=1.21.1 in /usr/local/lib/python3.10/dist-packages (from requests>=2.0.0->requests-oauthlib>=0.7.0->google-auth-oauthlib>=0.4.1->gspread>=3.0.0->gspread-dataframe) (2.2.3)\n",
            "Requirement already satisfied: certifi>=2017.4.17 in /usr/local/lib/python3.10/dist-packages (from requests>=2.0.0->requests-oauthlib>=0.7.0->google-auth-oauthlib>=0.4.1->gspread>=3.0.0->gspread-dataframe) (2024.8.30)\n",
            "Downloading gspread_dataframe-4.0.0-py2.py3-none-any.whl (9.0 kB)\n",
            "Installing collected packages: gspread-dataframe\n",
            "  Attempting uninstall: gspread-dataframe\n",
            "    Found existing installation: gspread-dataframe 3.3.1\n",
            "    Uninstalling gspread-dataframe-3.3.1:\n",
            "      Successfully uninstalled gspread-dataframe-3.3.1\n",
            "Successfully installed gspread-dataframe-4.0.0\n",
            "Requirement already satisfied: requests in /usr/local/lib/python3.10/dist-packages (2.32.3)\n",
            "Requirement already satisfied: charset-normalizer<4,>=2 in /usr/local/lib/python3.10/dist-packages (from requests) (3.4.0)\n",
            "Requirement already satisfied: idna<4,>=2.5 in /usr/local/lib/python3.10/dist-packages (from requests) (3.10)\n",
            "Requirement already satisfied: urllib3<3,>=1.21.1 in /usr/local/lib/python3.10/dist-packages (from requests) (2.2.3)\n",
            "Requirement already satisfied: certifi>=2017.4.17 in /usr/local/lib/python3.10/dist-packages (from requests) (2024.8.30)\n",
            "Collecting schedule\n",
            "  Downloading schedule-1.2.2-py3-none-any.whl.metadata (3.8 kB)\n",
            "Downloading schedule-1.2.2-py3-none-any.whl (12 kB)\n",
            "Installing collected packages: schedule\n",
            "Successfully installed schedule-1.2.2\n",
            "Requirement already satisfied: Flask in /usr/local/lib/python3.10/dist-packages (3.0.3)\n",
            "Collecting Flask\n",
            "  Downloading flask-3.1.0-py3-none-any.whl.metadata (2.7 kB)\n",
            "Requirement already satisfied: Werkzeug>=3.1 in /usr/local/lib/python3.10/dist-packages (from Flask) (3.1.3)\n",
            "Requirement already satisfied: Jinja2>=3.1.2 in /usr/local/lib/python3.10/dist-packages (from Flask) (3.1.4)\n",
            "Requirement already satisfied: itsdangerous>=2.2 in /usr/local/lib/python3.10/dist-packages (from Flask) (2.2.0)\n",
            "Requirement already satisfied: click>=8.1.3 in /usr/local/lib/python3.10/dist-packages (from Flask) (8.1.7)\n",
            "Requirement already satisfied: blinker>=1.9 in /usr/local/lib/python3.10/dist-packages (from Flask) (1.9.0)\n",
            "Requirement already satisfied: MarkupSafe>=2.0 in /usr/local/lib/python3.10/dist-packages (from Jinja2>=3.1.2->Flask) (3.0.2)\n",
            "Downloading flask-3.1.0-py3-none-any.whl (102 kB)\n",
            "Installing collected packages: Flask\n",
            "  Attempting uninstall: Flask\n",
            "    Found existing installation: Flask 3.0.3\n",
            "    Uninstalling Flask-3.0.3:\n",
            "      Successfully uninstalled Flask-3.0.3\n",
            "Successfully installed Flask-3.1.0\n"
          ]
        }
      ],
      "source": [
        "!pip install --upgrade gspread\n",
        "!pip install --upgrade gspread-dataframe\n",
        "!pip install --upgrade requests\n",
        "!pip install --upgrade schedule\n",
        "!pip install --upgrade Flask"
      ]
    },
    {
      "cell_type": "code",
      "execution_count": null,
      "metadata": {
        "colab": {
          "base_uri": "https://localhost:8080/"
        },
        "id": "VZto4XFdJ7bz",
        "outputId": "a1811133-c98b-4c02-c767-6d3ecc5b906b"
      },
      "outputs": [
        {
          "output_type": "stream",
          "name": "stdout",
          "text": [
            "Collecting blinker\n",
            "  Downloading blinker-1.9.0-py3-none-any.whl.metadata (1.6 kB)\n",
            "Downloading blinker-1.9.0-py3-none-any.whl (8.5 kB)\n",
            "Installing collected packages: blinker\n",
            "Successfully installed blinker-1.9.0\n"
          ]
        }
      ],
      "source": [
        "!pip install --upgrade --force-reinstall --ignore-installed blinker"
      ]
    },
    {
      "cell_type": "markdown",
      "metadata": {
        "id": "PfnE-gSUaCjv"
      },
      "source": [
        "#  Set Up Google Sheets for Data Storage:"
      ]
    },
    {
      "cell_type": "code",
      "execution_count": null,
      "metadata": {
        "colab": {
          "base_uri": "https://localhost:8080/"
        },
        "id": "CuVQJv_eYIyC",
        "outputId": "b1524a0a-bf94-47a8-ac06-295b900a161a"
      },
      "outputs": [
        {
          "output_type": "stream",
          "name": "stdout",
          "text": [
            "Requirement already satisfied: gspread in /usr/local/lib/python3.10/dist-packages (6.1.4)\n",
            "Requirement already satisfied: oauth2client in /usr/local/lib/python3.10/dist-packages (4.1.3)\n",
            "Requirement already satisfied: google-auth>=1.12.0 in /usr/local/lib/python3.10/dist-packages (from gspread) (2.27.0)\n",
            "Requirement already satisfied: google-auth-oauthlib>=0.4.1 in /usr/local/lib/python3.10/dist-packages (from gspread) (1.2.1)\n",
            "Requirement already satisfied: httplib2>=0.9.1 in /usr/local/lib/python3.10/dist-packages (from oauth2client) (0.22.0)\n",
            "Requirement already satisfied: pyasn1>=0.1.7 in /usr/local/lib/python3.10/dist-packages (from oauth2client) (0.6.1)\n",
            "Requirement already satisfied: pyasn1-modules>=0.0.5 in /usr/local/lib/python3.10/dist-packages (from oauth2client) (0.4.1)\n",
            "Requirement already satisfied: rsa>=3.1.4 in /usr/local/lib/python3.10/dist-packages (from oauth2client) (4.9)\n",
            "Requirement already satisfied: six>=1.6.1 in /usr/local/lib/python3.10/dist-packages (from oauth2client) (1.16.0)\n",
            "Requirement already satisfied: cachetools<6.0,>=2.0.0 in /usr/local/lib/python3.10/dist-packages (from google-auth>=1.12.0->gspread) (5.5.0)\n",
            "Requirement already satisfied: requests-oauthlib>=0.7.0 in /usr/local/lib/python3.10/dist-packages (from google-auth-oauthlib>=0.4.1->gspread) (1.3.1)\n",
            "Requirement already satisfied: pyparsing!=3.0.0,!=3.0.1,!=3.0.2,!=3.0.3,<4,>=2.4.2 in /usr/local/lib/python3.10/dist-packages (from httplib2>=0.9.1->oauth2client) (3.2.0)\n",
            "Requirement already satisfied: oauthlib>=3.0.0 in /usr/local/lib/python3.10/dist-packages (from requests-oauthlib>=0.7.0->google-auth-oauthlib>=0.4.1->gspread) (3.2.2)\n",
            "Requirement already satisfied: requests>=2.0.0 in /usr/local/lib/python3.10/dist-packages (from requests-oauthlib>=0.7.0->google-auth-oauthlib>=0.4.1->gspread) (2.32.3)\n",
            "Requirement already satisfied: charset-normalizer<4,>=2 in /usr/local/lib/python3.10/dist-packages (from requests>=2.0.0->requests-oauthlib>=0.7.0->google-auth-oauthlib>=0.4.1->gspread) (3.4.0)\n",
            "Requirement already satisfied: idna<4,>=2.5 in /usr/local/lib/python3.10/dist-packages (from requests>=2.0.0->requests-oauthlib>=0.7.0->google-auth-oauthlib>=0.4.1->gspread) (3.10)\n",
            "Requirement already satisfied: urllib3<3,>=1.21.1 in /usr/local/lib/python3.10/dist-packages (from requests>=2.0.0->requests-oauthlib>=0.7.0->google-auth-oauthlib>=0.4.1->gspread) (2.2.3)\n",
            "Requirement already satisfied: certifi>=2017.4.17 in /usr/local/lib/python3.10/dist-packages (from requests>=2.0.0->requests-oauthlib>=0.7.0->google-auth-oauthlib>=0.4.1->gspread) (2024.8.30)\n",
            "Data from Google Sheet: [{'Company Name': 'ABC Corp', 'Location': 'Germany', 'Email': 'contact@abccorp.com', 'Product': 'Product1', 'Status': 'Email sent', 'Delivery Status': 'N/A', 'Response': 'N/A'}, {'Company Name': 'XYZ Ltd', 'Location': 'UK', 'Email': 'info@xyzltd.co.uk', 'Product': 'Product2', 'Status': 'Email sent', 'Delivery Status': 'N/A', 'Response': 'N/A'}, {'Company Name': 'DEF Inc', 'Location': 'USA', 'Email': 'hello@definc.com', 'Product': 'Product3', 'Status': 'Email sent', 'Delivery Status': 'Bounced', 'Response': 'No'}, {'Company Name': 'ayufn', 'Location': 'india', 'Email': 'ayantika_nandimca2023@msit.edu.in', 'Product': 'Product 4', 'Status': 'Email sent', 'Delivery Status': 'Done', 'Response': 'Yes'}, {'Company Name': 'MEghadip ', 'Location': 'India', 'Email': 'meghadipmitra@gmail.com', 'Product': 'Product 5', 'Status': 'Email sent', 'Delivery Status': 'Done', 'Response': 'Yes'}, {'Company Name': 'suger', 'Location': 'India', 'Email': 'ayantikanandi9163@gmail.com', 'Product': 'Product 5', 'Status': 'Email sent', 'Delivery Status': 'Done', 'Response': 'Yes'}, {'Company Name': 'suger', 'Location': 'India', 'Email': 'ayantikanandi9163@gmail.com', 'Product': 'Product 5', 'Status': 'Sent', 'Delivery Status': 'Done', 'Response': 'Yes'}, {'Company Name': 'Acme Corporation', 'Location': 'New York City', 'Email': 'pritypaul9765@gmail.com', 'Product': 'Widget X', 'Status': 'Pending', 'Delivery Status': 'Not Delivered', 'Response': 'N/A'}]\n"
          ]
        }
      ],
      "source": [
        "!pip install gspread oauth2client\n",
        "import gspread\n",
        "from oauth2client.service_account import ServiceAccountCredentials\n",
        "\n",
        "# Define the scope - combining the permissions in a single string\n",
        "scope = ['https://spreadsheets.google.com/feeds',\n",
        "         'https://www.googleapis.com/auth/drive', # Added a comma to separate the permissions\n",
        "         'https://www.googleapis.com/auth/spreadsheets'] # Added a comma to separate the permissions\n",
        "\n",
        "# Add your service account file path here\n",
        "credentials = ServiceAccountCredentials.from_json_keyfile_name('/content/service.json', scope)\n",
        "\n",
        "# Create a client object\n",
        "client = gspread.authorize(credentials)\n",
        "\n",
        "# Open the Google Sheet by its ID\n",
        "spreadsheet = client.open_by_key(\"1JYKiqJabAAgGfw1SCB-_q0k-NFzQOcJE4BsiPBDzmYw\")\n",
        "\n",
        "# Select the first worksheet in the Google Sheet\n",
        "worksheet = spreadsheet.get_worksheet(0)\n",
        "\n",
        "# Read all records from the worksheet\n",
        "data = worksheet.get_all_records()\n",
        "print(\"Data from Google Sheet:\", data)\n"
      ]
    },
    {
      "cell_type": "code",
      "execution_count": null,
      "metadata": {
        "id": "RPIIzfpcYbQI"
      },
      "outputs": [],
      "source": [
        "# Replace this line:\n",
        "# spreadsheet = client.open(sheet_name)\n",
        "\n",
        "# With the following line, using the ID from your output\n",
        "spreadsheet = client.open_by_key(\"1JYKiqJabAAgGfw1SCB-_q0k-NFzQOcJE4BsiPBDzmYw\")\n"
      ]
    },
    {
      "cell_type": "code",
      "execution_count": null,
      "metadata": {
        "id": "rS3iXnBYYm1Y",
        "colab": {
          "base_uri": "https://localhost:8080/"
        },
        "outputId": "97ccf482-030b-4cc1-9fd2-15da65ed0844"
      },
      "outputs": [
        {
          "output_type": "stream",
          "name": "stdout",
          "text": [
            "Data from Google Sheet: [{'Company Name': 'ABC Corp', 'Location': 'Germany', 'Email': 'contact@abccorp.com', 'Product': 'Product1', 'Status': 'Email sent', 'Delivery Status': 'N/A', 'Response': 'N/A'}, {'Company Name': 'XYZ Ltd', 'Location': 'UK', 'Email': 'info@xyzltd.co.uk', 'Product': 'Product2', 'Status': 'Email sent', 'Delivery Status': 'N/A', 'Response': 'N/A'}, {'Company Name': 'DEF Inc', 'Location': 'USA', 'Email': 'hello@definc.com', 'Product': 'Product3', 'Status': 'Email sent', 'Delivery Status': 'Bounced', 'Response': 'No'}, {'Company Name': 'ayufn', 'Location': 'india', 'Email': 'ayantika_nandimca2023@msit.edu.in', 'Product': 'Product 4', 'Status': 'Email sent', 'Delivery Status': 'Done', 'Response': 'Yes'}, {'Company Name': 'MEghadip ', 'Location': 'India', 'Email': 'meghadipmitra@gmail.com', 'Product': 'Product 5', 'Status': 'Email sent', 'Delivery Status': 'Done', 'Response': 'Yes'}, {'Company Name': 'suger', 'Location': 'India', 'Email': 'ayantikanandi9163@gmail.com', 'Product': 'Product 5', 'Status': 'Email sent', 'Delivery Status': 'Done', 'Response': 'Yes'}, {'Company Name': 'suger', 'Location': 'India', 'Email': 'ayantikanandi9163@gmail.com', 'Product': 'Product 5', 'Status': 'Sent', 'Delivery Status': 'Done', 'Response': 'Yes'}, {'Company Name': 'Acme Corporation', 'Location': 'New York City', 'Email': 'pritypaul9765@gmail.com', 'Product': 'Widget X', 'Status': 'Pending', 'Delivery Status': 'Not Delivered', 'Response': 'N/A'}]\n"
          ]
        }
      ],
      "source": [
        "# Select the first worksheet in the Google Sheet\n",
        "worksheet = spreadsheet.get_worksheet(0)\n",
        "\n",
        "# Test reading data from the sheet\n",
        "data = worksheet.get_all_records()\n",
        "print(\"Data from Google Sheet:\", data)\n"
      ]
    },
    {
      "cell_type": "markdown",
      "metadata": {
        "id": "gJiCR_cXbfML"
      },
      "source": [
        "# 3. Integrate with the Email Service Provider (ESP):"
      ]
    },
    {
      "cell_type": "code",
      "execution_count": null,
      "metadata": {
        "id": "EXVkiu3JL_mC",
        "colab": {
          "base_uri": "https://localhost:8080/"
        },
        "outputId": "391c6c52-03cf-4b02-e731-6c0ec75210bd"
      },
      "outputs": [
        {
          "output_type": "stream",
          "name": "stdout",
          "text": [
            "Connecting to SMTP server...\n",
            "Logging in...\n",
            "Sending email...\n",
            "Email sent successfully!\n"
          ]
        }
      ],
      "source": [
        "import smtplib\n",
        "from email.mime.multipart import MIMEMultipart\n",
        "from email.mime.text import MIMEText\n",
        "\n",
        "# SMTP configuration\n",
        "SMTP_SERVER = \"smtp-relay.brevo.com\"\n",
        "SMTP_PORT = 587\n",
        "SMTP_LOGIN = \"7ff15e002@smtp-brevo.com\"  # Brevo login email from your SMTP settings\n",
        "SMTP_KEY = \"xsmtpsib-c6afae55f7fc1ff73790e390b984a7513d3a41aa676a4413c89f53f6ca9340a8-D6xkKFyfXZLn3EBQ\"  # Your SMTP key\n",
        "\n",
        "# Email details\n",
        "from_email = \"ayantikanandi9163@gmail.com\"  # Your email address\n",
        "to_email = \"ayantika_nandimca2023@msit.edu.in\"  # Recipient's email address\n",
        "subject = \"Test Email from Brevo\"\n",
        "body = \"Hello, this is a test email from Brevo SMTP!\"\n",
        "\n",
        "# Set up the MIME\n",
        "message = MIMEMultipart()\n",
        "message[\"From\"] = from_email\n",
        "message[\"To\"] = to_email\n",
        "message[\"Subject\"] = subject\n",
        "message.attach(MIMEText(body, \"plain\"))\n",
        "\n",
        "try:\n",
        "    # Connect to the server\n",
        "    print(\"Connecting to SMTP server...\")\n",
        "    server = smtplib.SMTP(SMTP_SERVER, SMTP_PORT)\n",
        "    server.starttls()  # Secure the connection\n",
        "    print(\"Logging in...\")\n",
        "    server.login(SMTP_LOGIN, SMTP_KEY)  # Login with SMTP key\n",
        "\n",
        "    # Send the email\n",
        "    print(\"Sending email...\")\n",
        "    server.sendmail(from_email, to_email, message.as_string())\n",
        "    print(\"Email sent successfully!\")\n",
        "\n",
        "except smtplib.SMTPAuthenticationError as auth_error:\n",
        "    print(\"Authentication failed:\", auth_error)\n",
        "    print(\"Check that your SMTP login and key are correct.\")\n",
        "\n",
        "except Exception as e:\n",
        "    print(f\"Failed to send email: {e}\")\n",
        "\n",
        "finally:\n",
        "    server.quit()\n",
        "\n"
      ]
    },
    {
      "cell_type": "markdown",
      "metadata": {
        "id": "tEK9gndg6Bcd"
      },
      "source": [
        "# Step 4: Automate Email Customization and Sending"
      ]
    },
    {
      "cell_type": "code",
      "execution_count": null,
      "metadata": {
        "id": "woc184uY-sz3",
        "colab": {
          "base_uri": "https://localhost:8080/"
        },
        "outputId": "7a3a5e00-bae4-40d3-8728-c7ec78f170c2"
      },
      "outputs": [
        {
          "output_type": "stream",
          "name": "stdout",
          "text": [
            "Sheet1\n"
          ]
        }
      ],
      "source": [
        "import gspread\n",
        "from google.oauth2.service_account import Credentials\n",
        "\n",
        "# Set up Google Sheets API credentials\n",
        "scope = [\"https://www.googleapis.com/auth/spreadsheets\", \"https://www.googleapis.com/auth/drive\"]\n",
        "creds = Credentials.from_service_account_file('/content/service.json', scopes=scope)\n",
        "client = gspread.authorize(creds)\n",
        "\n",
        "# Open the spreadsheet by ID\n",
        "spreadsheet_id = \"1JYKiqJabAAgGfw1SCB-_q0k-NFzQOcJE4BsiPBDzmYw\"\n",
        "spreadsheet = client.open_by_key(spreadsheet_id)\n",
        "\n",
        "# List all worksheet titles in the spreadsheet\n",
        "worksheets = spreadsheet.worksheets()\n",
        "for sheet in worksheets:\n",
        "    print(sheet.title)"
      ]
    },
    {
      "cell_type": "code",
      "execution_count": null,
      "metadata": {
        "id": "QJGkLlO62-SU",
        "colab": {
          "base_uri": "https://localhost:8080/"
        },
        "outputId": "b3c3c7d3-8c7a-4d08-9d01-762cb5e72a0b"
      },
      "outputs": [
        {
          "output_type": "stream",
          "name": "stdout",
          "text": [
            "Data from Google Sheet:\n",
            "{'Company Name': 'ABC Corp', 'Location': 'Germany', 'Email': 'contact@abccorp.com', 'Product': 'Product1', 'Status': 'Email sent', 'Delivery Status': 'N/A', 'Response': 'N/A'}\n",
            "{'Company Name': 'XYZ Ltd', 'Location': 'UK', 'Email': 'info@xyzltd.co.uk', 'Product': 'Product2', 'Status': 'Email sent', 'Delivery Status': 'N/A', 'Response': 'N/A'}\n",
            "{'Company Name': 'DEF Inc', 'Location': 'USA', 'Email': 'hello@definc.com', 'Product': 'Product3', 'Status': 'Email sent', 'Delivery Status': 'Bounced', 'Response': 'No'}\n",
            "{'Company Name': 'ayufn', 'Location': 'india', 'Email': 'ayantika_nandimca2023@msit.edu.in', 'Product': 'Product 4', 'Status': 'Email sent', 'Delivery Status': 'Done', 'Response': 'Yes'}\n",
            "{'Company Name': 'MEghadip ', 'Location': 'India', 'Email': 'meghadipmitra@gmail.com', 'Product': 'Product 5', 'Status': 'Email sent', 'Delivery Status': 'Done', 'Response': 'Yes'}\n",
            "{'Company Name': 'suger', 'Location': 'India', 'Email': 'ayantikanandi9163@gmail.com', 'Product': 'Product 5', 'Status': 'Email sent', 'Delivery Status': 'Done', 'Response': 'Yes'}\n",
            "{'Company Name': 'suger', 'Location': 'India', 'Email': 'ayantikanandi9163@gmail.com', 'Product': 'Product 5', 'Status': 'Sent', 'Delivery Status': 'Done', 'Response': 'Yes'}\n",
            "{'Company Name': 'Acme Corporation', 'Location': 'New York City', 'Email': 'pritypaul9765@gmail.com', 'Product': 'Widget X', 'Status': 'Pending', 'Delivery Status': 'Not Delivered', 'Response': 'N/A'}\n"
          ]
        }
      ],
      "source": [
        "# Step 2: Retrieve email data from the worksheet\n",
        "email_data = worksheet.get_all_records()\n",
        "\n",
        "# Print the data to inspect column names\n",
        "print(\"Data from Google Sheet:\")\n",
        "for row in email_data:\n",
        "    print(row)\n"
      ]
    },
    {
      "cell_type": "code",
      "execution_count": null,
      "metadata": {
        "id": "PDhG0fBm8wsA",
        "colab": {
          "base_uri": "https://localhost:8080/"
        },
        "outputId": "8511b380-9e82-4cef-9c1a-b397bcccea60"
      },
      "outputs": [
        {
          "output_type": "stream",
          "name": "stdout",
          "text": [
            "Connecting to SMTP server to send email to contact@abccorp.com...\n",
            "Email sent to contact@abccorp.com successfully!\n",
            "Connecting to SMTP server to send email to info@xyzltd.co.uk...\n",
            "Email sent to info@xyzltd.co.uk successfully!\n",
            "Connecting to SMTP server to send email to hello@definc.com...\n",
            "Email sent to hello@definc.com successfully!\n",
            "Connecting to SMTP server to send email to ayantika_nandimca2023@msit.edu.in...\n",
            "Email sent to ayantika_nandimca2023@msit.edu.in successfully!\n",
            "Connecting to SMTP server to send email to meghadipmitra@gmail.com...\n",
            "Email sent to meghadipmitra@gmail.com successfully!\n",
            "Connecting to SMTP server to send email to ayantikanandi9163@gmail.com...\n",
            "Email sent to ayantikanandi9163@gmail.com successfully!\n",
            "Connecting to SMTP server to send email to ayantikanandi9163@gmail.com...\n",
            "Email sent to ayantikanandi9163@gmail.com successfully!\n",
            "Connecting to SMTP server to send email to pritypaul9765@gmail.com...\n",
            "Email sent to pritypaul9765@gmail.com successfully!\n"
          ]
        }
      ],
      "source": [
        "# SMTP configuration for Brevo\n",
        "SMTP_SERVER = \"smtp-relay.brevo.com\"\n",
        "SMTP_PORT = 587\n",
        "SMTP_LOGIN = \"7ff15e002@smtp-brevo.com\"  # Updated Brevo login email from your SMTP settings\n",
        "SMTP_KEY = \"xsmtpsib-c6afae55f7fc1ff73790e390b984a7513d3a41aa676a4413c89f53f6ca9340a8-D6xkKFyfXZLn3EBQ\"  # Your SMTP key\n",
        "\n",
        "# Your email details (ensure this is the correct sender email)\n",
        "from_email = \"ayantikanandi9163@gmail.com\"  # Ensure this is the email you're sending from\n",
        "\n",
        "# Loop through the email data from the sheet and send emails\n",
        "for row in email_data:\n",
        "    try:\n",
        "        to_email = row['Email']\n",
        "        company_name = row['Company Name']\n",
        "        product = row['Product']\n",
        "\n",
        "        subject = f\"Regarding {product} for {company_name}\"\n",
        "        body = f\"Dear {company_name},\\n\\nThis is a personalized email for you regarding {product}.\\n\\nBest regards,\\n Ayantika Nandi\"\n",
        "\n",
        "        # Set up the MIME message\n",
        "        message = MIMEMultipart()\n",
        "        message[\"From\"] = from_email\n",
        "        message[\"To\"] = to_email\n",
        "        message[\"Subject\"] = subject\n",
        "        message.attach(MIMEText(body, \"plain\"))\n",
        "\n",
        "        # Connect to the SMTP server and send the email\n",
        "        print(f\"Connecting to SMTP server to send email to {to_email}...\")\n",
        "        server = smtplib.SMTP(SMTP_SERVER, SMTP_PORT)\n",
        "        server.starttls()  # Secure the connection\n",
        "        server.login(SMTP_LOGIN, SMTP_KEY)\n",
        "        server.sendmail(from_email, to_email, message.as_string())\n",
        "        print(f\"Email sent to {to_email} successfully!\")\n",
        "\n",
        "    except smtplib.SMTPAuthenticationError as auth_error:\n",
        "        print(f\"Authentication failed for {to_email}: {auth_error}\")\n",
        "    except Exception as e:\n",
        "        print(f\"Failed to send email to {to_email}: {e}\")\n",
        "    finally:\n",
        "        # Always close the server connection\n",
        "        server.quit()"
      ]
    },
    {
      "cell_type": "markdown",
      "metadata": {
        "id": "93efTGrvACB7"
      },
      "source": [
        "# Enable Real-Time Status Tracking"
      ]
    },
    {
      "cell_type": "code",
      "source": [
        "!pip install requests"
      ],
      "metadata": {
        "id": "Qn82NJRIKl-R",
        "colab": {
          "base_uri": "https://localhost:8080/"
        },
        "outputId": "cc51b0dd-d613-4cb4-9f4d-dc3089cafc69"
      },
      "execution_count": null,
      "outputs": [
        {
          "output_type": "stream",
          "name": "stdout",
          "text": [
            "Requirement already satisfied: requests in /usr/local/lib/python3.10/dist-packages (2.32.3)\n",
            "Requirement already satisfied: charset-normalizer<4,>=2 in /usr/local/lib/python3.10/dist-packages (from requests) (3.4.0)\n",
            "Requirement already satisfied: idna<4,>=2.5 in /usr/local/lib/python3.10/dist-packages (from requests) (3.10)\n",
            "Requirement already satisfied: urllib3<3,>=1.21.1 in /usr/local/lib/python3.10/dist-packages (from requests) (2.2.3)\n",
            "Requirement already satisfied: certifi>=2017.4.17 in /usr/local/lib/python3.10/dist-packages (from requests) (2024.8.30)\n"
          ]
        }
      ]
    },
    {
      "cell_type": "code",
      "source": [
        "import requests\n",
        "\n",
        "# Pipedream webhook URL\n",
        "webhook_url = \"https://eo3fdt646th91rt.m.pipedream.net\"\n",
        "\n",
        "# Data to send (can be customized)\n",
        "payload = {\n",
        "    \"message\": \"Hello from Google Colab!\",\n",
        "    \"status\": \"Testing webhook integration\"\n",
        "}\n",
        "\n",
        "# Send POST request\n",
        "response = requests.post(webhook_url, json=payload)\n",
        "\n",
        "# Print response\n",
        "print(f\"Response Status Code: {response.status_code}\")\n",
        "print(f\"Response Text: {response.text}\")\n"
      ],
      "metadata": {
        "id": "LF43z7wqKqbF",
        "colab": {
          "base_uri": "https://localhost:8080/"
        },
        "outputId": "1e2a3e22-98b0-4328-88d4-91b515d42224"
      },
      "execution_count": null,
      "outputs": [
        {
          "output_type": "stream",
          "name": "stdout",
          "text": [
            "Response Status Code: 200\n",
            "Response Text: <p><b>Success!</b></p>\n",
            "<p>To customize this response, check out our docs <a href=\"https://pipedream.com/docs/workflows/steps/triggers/#customizing-the-http-response\">here</a></p>\n",
            "\n"
          ]
        }
      ]
    },
    {
      "cell_type": "code",
      "source": [
        "import smtplib\n",
        "from email.mime.text import MIMEText\n",
        "\n",
        "# SMTP server details\n",
        "smtp_server = \"smtp-relay.brevo.com\"  # Correct SMTP server\n",
        "smtp_port = 587                      # Correct port\n",
        "smtp_user = \"7ff15e002@smtp-brevo.com\"  # Correct Brevo login username\n",
        "smtp_password = \"xsmtpsib-c6afae55f7fc1ff73790e390b984a7513d3a41aa676a4413c89f53f6ca9340a8-D6xkKFyfXZLn3EBQ\"  # Your Brevo SMTP key\n",
        "\n",
        "# Email details\n",
        "sender_email = \"ayantikanandi9163@gmail.com\"  # Your verified sender email\n",
        "recipient_email = \"ayantika_nandimca2023@msit.edu.in\"  # Replace with a test email\n",
        "subject = \"Testing Webhook Integration\"\n",
        "body = \"This is a test email to check the webhook integration.\"\n",
        "\n",
        "# Create the email\n",
        "msg = MIMEText(body)\n",
        "msg[\"Subject\"] = subject\n",
        "msg[\"From\"] = sender_email\n",
        "msg[\"To\"] = recipient_email\n",
        "\n",
        "# Send the email\n",
        "try:\n",
        "    with smtplib.SMTP(smtp_server, smtp_port) as server:\n",
        "        server.starttls()\n",
        "        print(\"Logging in...\")\n",
        "        server.login(smtp_user, smtp_password)  # Correct login\n",
        "        print(\"Sending email...\")\n",
        "        server.sendmail(sender_email, recipient_email, msg.as_string())\n",
        "        print(\"Email sent successfully!\")\n",
        "except smtplib.SMTPAuthenticationError as auth_error:\n",
        "    print(\"SMTP Authentication failed:\", auth_error)\n",
        "except Exception as e:\n",
        "    print(\"Failed to send email:\", e)"
      ],
      "metadata": {
        "id": "0xIjqXetJl2l",
        "colab": {
          "base_uri": "https://localhost:8080/"
        },
        "outputId": "8f495d9c-78a5-4b5e-f6e4-ffba99fc7335"
      },
      "execution_count": null,
      "outputs": [
        {
          "output_type": "stream",
          "name": "stdout",
          "text": [
            "Logging in...\n",
            "Sending email...\n",
            "Email sent successfully!\n"
          ]
        }
      ]
    },
    {
      "cell_type": "code",
      "source": [
        "import requests\n",
        "\n",
        "# Use your exact Pipedream webhook URL\n",
        "webhook_url = \"https://eo3fdt646th91rt.m.pipedream.net\"\n",
        "\n",
        "# Data to send\n",
        "data = {\n",
        "    \"name\": \"Ayantika Nandi\",\n",
        "    \"email\": \"ayantikanandi9163@gmail.com\",\n",
        "    \"message\": \"Testing webhook connectivity from Colab.\"\n",
        "}\n",
        "\n",
        "# Send POST request\n",
        "response = requests.post(webhook_url, json=data)\n",
        "\n",
        "# Check response\n",
        "if response.status_code == 200:\n",
        "    print(\"Webhook triggered successfully!\")\n",
        "else:\n",
        "    print(f\"Failed to trigger webhook: {response.status_code}\")\n",
        "    print(response.text)\n"
      ],
      "metadata": {
        "id": "P10JirZZNvcq",
        "colab": {
          "base_uri": "https://localhost:8080/"
        },
        "outputId": "bd34bfa9-a886-456c-cf98-857f6c41f2e7"
      },
      "execution_count": null,
      "outputs": [
        {
          "output_type": "stream",
          "name": "stdout",
          "text": [
            "Webhook triggered successfully!\n"
          ]
        }
      ]
    },
    {
      "cell_type": "code",
      "source": [
        "import smtplib\n",
        "from email.mime.text import MIMEText\n",
        "from datetime import datetime, timedelta\n",
        "import time\n",
        "\n",
        "# Updated SMTP credentials\n",
        "SMTP_SERVER = \"smtp-relay.brevo.com\"\n",
        "SMTP_PORT = 587\n",
        "SENDER_EMAIL = \"7ff15e002@smtp-brevo.com\"  # Use the Brevo SMTP Login\n",
        "SMTP_KEY = \"xsmtpsib-c6afae55f7fc1ff73790e390b984a7513d3a41aa676a4413c89f53f6ca9340a8-D6xkKFyfXZLn3EBQ\"\n",
        "\n",
        "# Reminder email details\n",
        "RECIPIENT_EMAIL = \"ayantikanandi9163@gmail.com\"\n",
        "SUBJECT = \"Reminder: Pipedream Quota Reset\"\n",
        "BODY = \"\"\"\n",
        "Hi Ayantika,\n",
        "\n",
        "This is your reminder to test the real-time status tracking workflow now that the Pipedream quota has reset.\n",
        "\n",
        "Happy coding!\n",
        "\n",
        "Best regards,\n",
        "Your Reminder Bot\n",
        "\"\"\"\n",
        "\n",
        "# Function to send email\n",
        "def send_reminder():\n",
        "    msg = MIMEText(BODY)\n",
        "    msg[\"Subject\"] = SUBJECT\n",
        "    msg[\"From\"] = SENDER_EMAIL\n",
        "    msg[\"To\"] = RECIPIENT_EMAIL\n",
        "\n",
        "    try:\n",
        "        with smtplib.SMTP(SMTP_SERVER, SMTP_PORT) as server:\n",
        "            server.starttls()\n",
        "            server.login(SENDER_EMAIL, SMTP_KEY)\n",
        "            server.sendmail(SENDER_EMAIL, RECIPIENT_EMAIL, msg.as_string())\n",
        "        print(f\"Reminder email sent successfully to {RECIPIENT_EMAIL}!\")\n",
        "    except Exception as e:\n",
        "        print(f\"Failed to send reminder email: {e}\")\n",
        "\n",
        "# Schedule for reminder (e.g., 30 seconds from now for testing)\n",
        "def schedule_reminder():\n",
        "    reset_time = datetime.now() + timedelta(seconds=30)  # Schedules the reminder for 30 seconds later\n",
        "    wait_time = (reset_time - datetime.now()).total_seconds()\n",
        "    print(f\"Reminder scheduled at {reset_time}\")\n",
        "    time.sleep(wait_time)\n",
        "    send_reminder()\n",
        "\n",
        "# Start the reminder\n",
        "if __name__ == \"__main__\":\n",
        "    schedule_reminder()\n",
        "\n"
      ],
      "metadata": {
        "id": "leblaadBRqrO",
        "colab": {
          "base_uri": "https://localhost:8080/"
        },
        "outputId": "241e728a-8a87-483d-cee8-49c9e634876b"
      },
      "execution_count": null,
      "outputs": [
        {
          "output_type": "stream",
          "name": "stdout",
          "text": [
            "Reminder scheduled at 2024-11-18 13:59:20.959746\n",
            "Reminder email sent successfully to ayantikanandi9163@gmail.com!\n"
          ]
        }
      ]
    },
    {
      "cell_type": "code",
      "source": [
        "import smtplib\n",
        "from email.mime.multipart import MIMEMultipart\n",
        "from email.mime.text import MIMEText\n",
        "import gspread\n",
        "from google.oauth2.service_account import Credentials\n",
        "\n",
        "# Google Sheets Setup\n",
        "scope = [\"https://www.googleapis.com/auth/spreadsheets\", \"https://www.googleapis.com/auth/drive\"]\n",
        "creds = Credentials.from_service_account_file('/content/service.json', scopes=scope)\n",
        "client = gspread.authorize(creds)\n",
        "spreadsheet_id = \"1JYKiqJabAAgGfw1SCB-_q0k-NFzQOcJE4BsiPBDzmYw\"\n",
        "spreadsheet = client.open_by_key(spreadsheet_id)\n",
        "worksheet = spreadsheet.get_worksheet(0)  # Get the first worksheet\n",
        "\n",
        "# Email Configuration (Brevo)\n",
        "SMTP_SERVER = \"smtp-relay.brevo.com\"\n",
        "SMTP_PORT = 587\n",
        "SMTP_LOGIN = \"7ff15e002@smtp-brevo.com\"\n",
        "SMTP_KEY = \"xsmtpsib-c6afae55f7fc1ff73790e390b984a7513d3a41aa676a4413c89f53f6ca9340a8-D6xkKFyfXZLn3EBQ\"\n",
        "from_email = \"ayantikanandi9163@gmail.com\"\n",
        "\n",
        "def send_email_and_append_to_sheet(company_name, location, recipient_email, product, status, delivery_status, response):\n",
        "    \"\"\"Sends an email to a single recipient and appends their data to the Google Sheet.\"\"\"\n",
        "    try:\n",
        "        # Email Content\n",
        "        subject = f\"Regarding {product} for {company_name}\"\n",
        "        body = f\"Dear {company_name},\\n\\nThis is a personalized email for you regarding {product}.\\n\\nBest regards,\\nAyantika Nandi\"\n",
        "\n",
        "        # Create and send the email\n",
        "        message = MIMEMultipart()\n",
        "        message[\"From\"] = from_email\n",
        "        message[\"To\"] = recipient_email\n",
        "        message[\"Subject\"] = subject\n",
        "        message.attach(MIMEText(body, \"plain\"))\n",
        "\n",
        "        server = smtplib.SMTP(SMTP_SERVER, SMTP_PORT)\n",
        "        server.starttls()\n",
        "        server.login(SMTP_LOGIN, SMTP_KEY)\n",
        "        server.sendmail(from_email, recipient_email, message.as_string())\n",
        "        server.quit()\n",
        "        print(f\"Email sent to {recipient_email} successfully!\")\n",
        "\n",
        "        # Append data to Google Sheet\n",
        "        new_row = [company_name, location, recipient_email, product, status, delivery_status, response]\n",
        "        worksheet.append_row(new_row)\n",
        "        print(\"Data appended to Google Sheet successfully!\")\n",
        "\n",
        "    except Exception as e:\n",
        "        print(f\"Error processing email for {recipient_email}: {e}\")\n",
        "\n",
        "# Example usage:\n",
        "company_name = \"Acme Corporation\"\n",
        "location = \"New York City\"\n",
        "email = \"pritypaul9765@gmail.com\"\n",
        "product = \"Widget X\"\n",
        "status = \"Pending\"\n",
        "delivery_status = \"Not Delivered\"\n",
        "response = \"N/A\"\n",
        "\n",
        "send_email_and_append_to_sheet(company_name, location, email, product, status, delivery_status, response)\n"
      ],
      "metadata": {
        "colab": {
          "base_uri": "https://localhost:8080/"
        },
        "id": "pI6EpKV7xcDj",
        "outputId": "e25fd334-e0ea-4e21-e5e8-691e2691afcf"
      },
      "execution_count": null,
      "outputs": [
        {
          "output_type": "stream",
          "name": "stdout",
          "text": [
            "Email sent to pritypaul9765@gmail.com successfully!\n",
            "Data appended to Google Sheet successfully!\n"
          ]
        }
      ]
    },
    {
      "cell_type": "code",
      "source": [
        "!pip install gspread Flask requests\n",
        "!pip install flask-ngrok  # Install flask-ngrok to expose Flask to the internet\n"
      ],
      "metadata": {
        "colab": {
          "base_uri": "https://localhost:8080/"
        },
        "id": "yZm4YtkFvKI6",
        "outputId": "ae0259c7-62ca-45c3-c64b-2714db59e4cc"
      },
      "execution_count": null,
      "outputs": [
        {
          "output_type": "stream",
          "name": "stdout",
          "text": [
            "Requirement already satisfied: gspread in /usr/local/lib/python3.10/dist-packages (6.1.4)\n",
            "Requirement already satisfied: Flask in /usr/local/lib/python3.10/dist-packages (3.1.0)\n",
            "Requirement already satisfied: requests in /usr/local/lib/python3.10/dist-packages (2.32.3)\n",
            "Requirement already satisfied: google-auth>=1.12.0 in /usr/local/lib/python3.10/dist-packages (from gspread) (2.27.0)\n",
            "Requirement already satisfied: google-auth-oauthlib>=0.4.1 in /usr/local/lib/python3.10/dist-packages (from gspread) (1.2.1)\n",
            "Requirement already satisfied: Werkzeug>=3.1 in /usr/local/lib/python3.10/dist-packages (from Flask) (3.1.3)\n",
            "Requirement already satisfied: Jinja2>=3.1.2 in /usr/local/lib/python3.10/dist-packages (from Flask) (3.1.4)\n",
            "Requirement already satisfied: itsdangerous>=2.2 in /usr/local/lib/python3.10/dist-packages (from Flask) (2.2.0)\n",
            "Requirement already satisfied: click>=8.1.3 in /usr/local/lib/python3.10/dist-packages (from Flask) (8.1.7)\n",
            "Requirement already satisfied: blinker>=1.9 in /usr/local/lib/python3.10/dist-packages (from Flask) (1.9.0)\n",
            "Requirement already satisfied: charset-normalizer<4,>=2 in /usr/local/lib/python3.10/dist-packages (from requests) (3.4.0)\n",
            "Requirement already satisfied: idna<4,>=2.5 in /usr/local/lib/python3.10/dist-packages (from requests) (3.10)\n",
            "Requirement already satisfied: urllib3<3,>=1.21.1 in /usr/local/lib/python3.10/dist-packages (from requests) (2.2.3)\n",
            "Requirement already satisfied: certifi>=2017.4.17 in /usr/local/lib/python3.10/dist-packages (from requests) (2024.8.30)\n",
            "Requirement already satisfied: cachetools<6.0,>=2.0.0 in /usr/local/lib/python3.10/dist-packages (from google-auth>=1.12.0->gspread) (5.5.0)\n",
            "Requirement already satisfied: pyasn1-modules>=0.2.1 in /usr/local/lib/python3.10/dist-packages (from google-auth>=1.12.0->gspread) (0.4.1)\n",
            "Requirement already satisfied: rsa<5,>=3.1.4 in /usr/local/lib/python3.10/dist-packages (from google-auth>=1.12.0->gspread) (4.9)\n",
            "Requirement already satisfied: requests-oauthlib>=0.7.0 in /usr/local/lib/python3.10/dist-packages (from google-auth-oauthlib>=0.4.1->gspread) (1.3.1)\n",
            "Requirement already satisfied: MarkupSafe>=2.0 in /usr/local/lib/python3.10/dist-packages (from Jinja2>=3.1.2->Flask) (3.0.2)\n",
            "Requirement already satisfied: pyasn1<0.7.0,>=0.4.6 in /usr/local/lib/python3.10/dist-packages (from pyasn1-modules>=0.2.1->google-auth>=1.12.0->gspread) (0.6.1)\n",
            "Requirement already satisfied: oauthlib>=3.0.0 in /usr/local/lib/python3.10/dist-packages (from requests-oauthlib>=0.7.0->google-auth-oauthlib>=0.4.1->gspread) (3.2.2)\n",
            "Collecting flask-ngrok\n",
            "  Downloading flask_ngrok-0.0.25-py3-none-any.whl.metadata (1.8 kB)\n",
            "Requirement already satisfied: Flask>=0.8 in /usr/local/lib/python3.10/dist-packages (from flask-ngrok) (3.1.0)\n",
            "Requirement already satisfied: requests in /usr/local/lib/python3.10/dist-packages (from flask-ngrok) (2.32.3)\n",
            "Requirement already satisfied: Werkzeug>=3.1 in /usr/local/lib/python3.10/dist-packages (from Flask>=0.8->flask-ngrok) (3.1.3)\n",
            "Requirement already satisfied: Jinja2>=3.1.2 in /usr/local/lib/python3.10/dist-packages (from Flask>=0.8->flask-ngrok) (3.1.4)\n",
            "Requirement already satisfied: itsdangerous>=2.2 in /usr/local/lib/python3.10/dist-packages (from Flask>=0.8->flask-ngrok) (2.2.0)\n",
            "Requirement already satisfied: click>=8.1.3 in /usr/local/lib/python3.10/dist-packages (from Flask>=0.8->flask-ngrok) (8.1.7)\n",
            "Requirement already satisfied: blinker>=1.9 in /usr/local/lib/python3.10/dist-packages (from Flask>=0.8->flask-ngrok) (1.9.0)\n",
            "Requirement already satisfied: charset-normalizer<4,>=2 in /usr/local/lib/python3.10/dist-packages (from requests->flask-ngrok) (3.4.0)\n",
            "Requirement already satisfied: idna<4,>=2.5 in /usr/local/lib/python3.10/dist-packages (from requests->flask-ngrok) (3.10)\n",
            "Requirement already satisfied: urllib3<3,>=1.21.1 in /usr/local/lib/python3.10/dist-packages (from requests->flask-ngrok) (2.2.3)\n",
            "Requirement already satisfied: certifi>=2017.4.17 in /usr/local/lib/python3.10/dist-packages (from requests->flask-ngrok) (2024.8.30)\n",
            "Requirement already satisfied: MarkupSafe>=2.0 in /usr/local/lib/python3.10/dist-packages (from Jinja2>=3.1.2->Flask>=0.8->flask-ngrok) (3.0.2)\n",
            "Downloading flask_ngrok-0.0.25-py3-none-any.whl (3.1 kB)\n",
            "Installing collected packages: flask-ngrok\n",
            "Successfully installed flask-ngrok-0.0.25\n"
          ]
        }
      ]
    },
    {
      "cell_type": "code",
      "source": [
        "from flask_ngrok import run_with_ngrok  # Import ngrok helper"
      ],
      "metadata": {
        "id": "RxClvWUuvNIs"
      },
      "execution_count": null,
      "outputs": []
    },
    {
      "cell_type": "code",
      "source": [
        "import requests\n",
        "\n",
        "def send_data_to_webhook(email_subject, email_body, email_recipient):\n",
        "    \"\"\"\n",
        "    Sends data to a specified webhook URL.\n",
        "    \"\"\"\n",
        "    try:\n",
        "        payload = {\n",
        "            \"subject\": email_subject,\n",
        "            \"body\": email_body,\n",
        "            \"recipient\": email_recipient,\n",
        "        }\n",
        "        print(\"Sending data to webhook:\", payload)\n",
        "        response = requests.post(\"https://eo3fdt646th91rt.m.pipedream.net\", json=payload)\n",
        "\n",
        "        print(\"Webhook Response Status Code:\", response.status_code)\n",
        "        print(\"Webhook Response Content:\", response.text)\n",
        "\n",
        "        # Return the response text if status code is 200, otherwise return None\n",
        "        return response.text if response.status_code == 200 else None\n",
        "\n",
        "    except Exception as e:\n",
        "        print(\"An error occurred:\", str(e))\n",
        "        return None\n",
        "\n",
        "# Test call\n",
        "send_data_to_webhook(\"Test Subject\", \"Test Body\", \"ayantika_nandimca2023@msit.edu.in\")\n",
        "\n",
        "\n"
      ],
      "metadata": {
        "colab": {
          "base_uri": "https://localhost:8080/",
          "height": 177
        },
        "id": "5CR-Cs93z8cX",
        "outputId": "fbbc1a4b-e52a-4e10-d79c-58257b33aebf"
      },
      "execution_count": null,
      "outputs": [
        {
          "output_type": "stream",
          "name": "stdout",
          "text": [
            "Sending data to webhook: {'subject': 'Test Subject', 'body': 'Test Body', 'recipient': 'ayantika_nandimca2023@msit.edu.in'}\n",
            "Webhook Response Status Code: 200\n",
            "Webhook Response Content: <p><b>Success!</b></p>\n",
            "<p>To customize this response, check out our docs <a href=\"https://pipedream.com/docs/workflows/steps/triggers/#customizing-the-http-response\">here</a></p>\n",
            "\n"
          ]
        },
        {
          "output_type": "execute_result",
          "data": {
            "text/plain": [
              "'<p><b>Success!</b></p>\\n<p>To customize this response, check out our docs <a href=\"https://pipedream.com/docs/workflows/steps/triggers/#customizing-the-http-response\">here</a></p>\\n'"
            ],
            "application/vnd.google.colaboratory.intrinsic+json": {
              "type": "string"
            }
          },
          "metadata": {},
          "execution_count": 44
        }
      ]
    },
    {
      "cell_type": "code",
      "source": [
        "import smtplib\n",
        "from email.mime.text import MIMEText\n",
        "from email.mime.multipart import MIMEMultipart\n",
        "import requests\n",
        "import json\n",
        "from googleapiclient.discovery import build\n",
        "from google.auth.transport.requests import Request\n",
        "from google.auth import exceptions\n",
        "from google.auth.credentials import Credentials\n",
        "\n",
        "# Function to send email using Brevo SMTP and add data to Google Sheets\n",
        "def send_email_and_update_sheet(subject, body, recipient, sheet_id):\n",
        "    # Brevo (Sendinblue) SMTP credentials\n",
        "    SMTP_SERVER = 'smtp-relay.sendinblue.com'\n",
        "    SMTP_PORT = 587\n",
        "    SMTP_USERNAME = '7ff15e002@smtp-brevo.com'  # Use your Brevo email\n",
        "    SMTP_PASSWORD = 'HPzDn0ZgpSyX71CL'  # Use your Brevo SMTP key\n",
        "\n",
        "    # Google Sheets API credentials\n",
        "    SCOPES = ['https://www.googleapis.com/auth/spreadsheets']\n",
        "\n",
        "    # Step 1: Send the email\n",
        "    msg = MIMEMultipart()\n",
        "    msg['From'] = SMTP_USERNAME\n",
        "    msg['To'] = recipient\n",
        "    msg['Subject'] = subject\n",
        "\n",
        "    # Email body with tracking pixel (Pipedream Webhook to track email opens)\n",
        "    tracking_pixel_url = 'https://eo3fdt646th91rt.m.pipedream.net'  # Replace with your Pipedream URL\n",
        "    body += f'<img src=\"{tracking_pixel_url}\" width=\"1\" height=\"1\" />'  # Embedded 1x1 tracking pixel\n",
        "\n",
        "    msg.attach(MIMEText(body, 'html'))\n",
        "\n",
        "    try:\n",
        "        # Connect to the SMTP server and send the email\n",
        "        server = smtplib.SMTP(SMTP_SERVER, SMTP_PORT)\n",
        "        server.starttls()\n",
        "        server.login(SMTP_USERNAME, SMTP_PASSWORD)\n",
        "        server.sendmail(SMTP_USERNAME, recipient, msg.as_string())\n",
        "        server.quit()\n",
        "        print(\"Email sent successfully!\")\n",
        "\n",
        "        # Step 2: Add email details to Google Sheets (this should already be set up in your Sheets)\n",
        "        sheet_service = build('sheets', 'v4', credentials='/content/service.json')  # Load credentials\n",
        "        sheet_range = 'Sheet1!A11:D'  # Sheet name and range where you store data\n",
        "        values = [\n",
        "            [subject, body, recipient, 'Sent'],  # Add email details\n",
        "        ]\n",
        "\n",
        "        request = sheet_service.spreadsheets().values().append(\n",
        "            spreadsheetId=sheet_id, range=sheet_range,\n",
        "            valueInputOption=\"RAW\", body={\"values\": values})\n",
        "        response = request.execute()\n",
        "        print(\"Email details added to Google Sheets.\")\n",
        "\n",
        "    except Exception as e:\n",
        "        print(f\"Error sending email or updating sheet: {e}\")\n",
        "\n"
      ],
      "metadata": {
        "id": "DdEex63B_QIT"
      },
      "execution_count": null,
      "outputs": []
    },
    {
      "cell_type": "code",
      "source": [
        "import smtplib\n",
        "from email.mime.multipart import MIMEMultipart\n",
        "from email.mime.text import MIMEText\n",
        "import gspread\n",
        "from google.oauth2.service_account import Credentials\n",
        "\n",
        "# Google Sheets Setup\n",
        "scope = [\"https://www.googleapis.com/auth/spreadsheets\", \"https://www.googleapis.com/auth/drive\"]\n",
        "creds = Credentials.from_service_account_file('/content/service.json', scopes=scope)\n",
        "client = gspread.authorize(creds)\n",
        "spreadsheet_id = \"1JYKiqJabAAgGfw1SCB-_q0k-NFzQOcJE4BsiPBDzmYw\"\n",
        "spreadsheet = client.open_by_key(spreadsheet_id)\n",
        "worksheet = spreadsheet.get_worksheet(0)  # Get the first worksheet\n",
        "\n",
        "# Email Configuration (Brevo)\n",
        "SMTP_SERVER = \"smtp-relay.brevo.com\"\n",
        "SMTP_PORT = 587\n",
        "SMTP_LOGIN = \"7ff15e002@smtp-brevo.com\"\n",
        "SMTP_KEY = \"xsmtpsib-c6afae55f7fc1ff73790e390b984a7513d3a41aa676a4413c89f53f6ca9340a8-D6xkKFyfXZLn3EBQ\"\n",
        "from_email = \"ayantikanandi9163@gmail.com\"\n",
        "\n",
        "def send_email_and_append_to_sheet(company_name, location, recipient_email, product, status, delivery_status, response):\n",
        "    \"\"\"Sends an email to a single recipient and appends their data to the Google Sheet.\"\"\"\n",
        "    try:\n",
        "        # Email Content\n",
        "        subject = f\"Regarding {product} for {company_name}\"\n",
        "        body = f\"Dear {company_name},\\n\\nThis is a personalized email for you regarding {product}.\\n\\nBest regards,\\nAyantika Nandi\"\n",
        "\n",
        "        # Create and send the email\n",
        "        message = MIMEMultipart()\n",
        "        message[\"From\"] = from_email\n",
        "        message[\"To\"] = recipient_email\n",
        "        message[\"Subject\"] = subject\n",
        "        message.attach(MIMEText(body, \"plain\"))\n",
        "\n",
        "        server = smtplib.SMTP(SMTP_SERVER, SMTP_PORT)\n",
        "        server.starttls()\n",
        "        server.login(SMTP_LOGIN, SMTP_KEY)\n",
        "        server.sendmail(from_email, recipient_email, message.as_string())\n",
        "        server.quit()\n",
        "        print(f\"Email sent to {recipient_email} successfully!\")\n",
        "\n",
        "        # Append data to Google Sheet\n",
        "        new_row = [company_name, location, recipient_email, product, status, delivery_status, response]\n",
        "        worksheet.append_row(new_row)\n",
        "        print(\"Data appended to Google Sheet successfully!\")\n",
        "\n",
        "    except Exception as e:\n",
        "        print(f\"Error processing email for {recipient_email}: {e}\")\n",
        "\n",
        "# Example usage:\n",
        "company_name = \"Acme Corporation\"\n",
        "location = \"New York City\"\n",
        "email = \"pritypaul9765@gmail.com\"\n",
        "product = \"Widget X\"\n",
        "status = \"Pending\"\n",
        "delivery_status = \"Not Delivered\"\n",
        "response = \"N/A\""
      ],
      "metadata": {
        "id": "xvItdOEjCTwb"
      },
      "execution_count": null,
      "outputs": []
    },
    {
      "cell_type": "markdown",
      "source": [
        "#  Scheduling and Throttling Using Celery"
      ],
      "metadata": {
        "id": "wHaEHW-oKihu"
      }
    },
    {
      "cell_type": "code",
      "source": [
        "!pip install schedule\n",
        "import schedule\n",
        "import threading\n",
        "import time\n",
        "from smtplib import SMTP\n",
        "from email.mime.text import MIMEText\n",
        "from datetime import datetime\n",
        "\n",
        "# SMTP Configuration\n",
        "SMTP_SERVER = \"smtp-relay.brevo.com\"\n",
        "SMTP_PORT = 587\n",
        "SMTP_LOGIN = \"7ff15e002@smtp-brevo.com\"\n",
        "SMTP_PASSWORD = \"HPzDn0ZgpSyX71CL\"\n",
        "\n",
        "# Function to send an email\n",
        "def send_email(to_email, subject, body):\n",
        "    try:\n",
        "        with SMTP(SMTP_SERVER, SMTP_PORT) as server:\n",
        "            server.starttls()\n",
        "            server.login(SMTP_LOGIN, SMTP_PASSWORD)\n",
        "            message = MIMEText(body)\n",
        "            message[\"From\"] = SMTP_LOGIN\n",
        "            message[\"To\"] = to_email\n",
        "            message[\"Subject\"] = subject\n",
        "            server.sendmail(SMTP_LOGIN, to_email, message.as_string())\n",
        "        print(f\"[{datetime.now()}] Email sent to {to_email}\")\n",
        "    except Exception as e:\n",
        "        print(f\"[{datetime.now()}] Failed to send email to {to_email}: {e}\")\n",
        "\n",
        "# Function to schedule a batch of emails\n",
        "def schedule_emails(emails, subject, body, interval):\n",
        "    \"\"\"\n",
        "    Schedule emails to be sent at a fixed interval.\n",
        "    \"\"\"\n",
        "    for email in emails:\n",
        "        schedule.every(interval).seconds.do(send_email, to_email=email, subject=subject, body=body)\n",
        "    print(f\"Emails scheduled to be sent every {interval} seconds.\")\n",
        "\n",
        "# Function to run the schedule in a background thread\n",
        "def run_schedule():\n",
        "    while True:\n",
        "        schedule.run_pending()\n",
        "        time.sleep(1)\n",
        "\n",
        "# Example email data\n",
        "emails = [\"ayantikanandi9163@gmail.com\", \"pritypaul9765@gmail.com\", \"ayantika_nandimca2023@msit.edu.in\"]\n",
        "subject = \"Scheduled Email\"\n",
        "body = \"This is a test email sent using Python scheduling.\"\n",
        "interval = 10  # Interval in seconds between each email\n",
        "\n",
        "# Schedule the emails\n",
        "schedule_emails(emails, subject, body, interval)\n",
        "\n",
        "# Start the scheduler in a separate thread\n",
        "scheduler_thread = threading.Thread(target=run_schedule)\n",
        "scheduler_thread.daemon = True\n",
        "scheduler_thread.start()\n",
        "\n",
        "print(\"Email scheduler is running...\")\n"
      ],
      "metadata": {
        "colab": {
          "base_uri": "https://localhost:8080/"
        },
        "id": "Vvjjt-2BKm6u",
        "outputId": "2d9bf8c9-fe9f-44fa-c2a9-fb7a9292e51b"
      },
      "execution_count": null,
      "outputs": [
        {
          "output_type": "stream",
          "name": "stdout",
          "text": [
            "Requirement already satisfied: schedule in /usr/local/lib/python3.10/dist-packages (1.2.2)\n",
            "Emails scheduled to be sent every 10 seconds.\n",
            "Email scheduler is running...\n"
          ]
        }
      ]
    },
    {
      "cell_type": "markdown",
      "source": [
        "# 7. Real-Time Analytics for Sent Emails"
      ],
      "metadata": {
        "id": "4U_xd8OCMDPU"
      }
    },
    {
      "cell_type": "markdown",
      "source": [
        "# Step 7: Real-Time Analytics Dashboard"
      ],
      "metadata": {
        "id": "MwnKSFSSNWdf"
      }
    },
    {
      "cell_type": "code",
      "source": [
        "import time\n",
        "import matplotlib.pyplot as plt\n",
        "from IPython.display import clear_output\n",
        "from datetime import datetime\n",
        "from smtplib import SMTP\n",
        "from email.mime.text import MIMEText\n",
        "\n",
        "# SMTP Configuration\n",
        "SMTP_SERVER = \"smtp-relay.brevo.com\"\n",
        "SMTP_PORT = 587\n",
        "SMTP_LOGIN = \"7ff15e002@smtp-brevo.com\"\n",
        "SMTP_PASSWORD = \"HPzDn0ZgpSyX71CL\"\n",
        "\n",
        "# Email Analytics\n",
        "analytics = {\n",
        "    \"total_sent\": 0,\n",
        "    \"emails_pending\": 0,\n",
        "    \"emails_failed\": 0,\n",
        "    \"emails_scheduled\": 0\n",
        "}\n",
        "\n",
        "# Function to send an email\n",
        "def send_email(to_email, subject, body):\n",
        "    try:\n",
        "        with SMTP(SMTP_SERVER, SMTP_PORT) as server:\n",
        "            server.starttls()\n",
        "            server.login(SMTP_LOGIN, SMTP_PASSWORD)\n",
        "            message = MIMEText(body)\n",
        "            message[\"From\"] = SMTP_LOGIN\n",
        "            message[\"To\"] = to_email\n",
        "            message[\"Subject\"] = subject\n",
        "            server.sendmail(SMTP_LOGIN, to_email, message.as_string())\n",
        "        analytics[\"total_sent\"] += 1\n",
        "        analytics[\"emails_pending\"] -= 1\n",
        "        print(f\"[{datetime.now()}] Email sent to {to_email}\")\n",
        "    except Exception as e:\n",
        "        analytics[\"emails_failed\"] += 1\n",
        "        analytics[\"emails_pending\"] -= 1\n",
        "        print(f\"[{datetime.now()}] Failed to send email to {to_email}: {e}\")\n",
        "\n",
        "# Function to display real-time analytics\n",
        "def display_analytics():\n",
        "    while analytics[\"emails_pending\"] > 0:\n",
        "        clear_output(wait=True)\n",
        "        print(\"📊 Real-Time Email Analytics\")\n",
        "        print(\"----------------------------\")\n",
        "        print(f\"Total Emails Sent: {analytics['total_sent']}\")\n",
        "        print(f\"Emails Pending: {analytics['emails_pending']}\")\n",
        "        print(f\"Emails Scheduled: {analytics['emails_scheduled']}\")\n",
        "        print(f\"Emails Failed: {analytics['emails_failed']}\")\n",
        "\n",
        "        # Visualize analytics with matplotlib\n",
        "        plt.bar(analytics.keys(), analytics.values(), color=['blue', 'orange', 'green', 'red'])\n",
        "        plt.title(\"Email Analytics\")\n",
        "        plt.ylabel(\"Count\")\n",
        "        plt.xlabel(\"Metrics\")\n",
        "        plt.show()\n",
        "        time.sleep(2)\n",
        "    print(\"All emails processed. Exiting analytics display.\")\n",
        "\n",
        "# Example Email Data\n",
        "emails = [\"ayantikanandi9163@gmail.com\", \"ayantika_nandimca2023@msit.edu.in\", \"pritypaul9765@gmail.com\"]\n",
        "subject = \"Real-Time Analytics Email\"\n",
        "body = \"This email is tracked with real-time analytics.\"\n",
        "\n",
        "# Set initial analytics state\n",
        "analytics[\"emails_scheduled\"] = len(emails)\n",
        "analytics[\"emails_pending\"] = len(emails)\n",
        "\n",
        "# Sending emails and updating analytics\n",
        "for email in emails:\n",
        "    send_email(email, subject, body)\n",
        "    time.sleep(5)  # Delay between emails for demonstration\n",
        "\n",
        "# Start displaying real-time analytics\n",
        "display_analytics()\n",
        "\n"
      ],
      "metadata": {
        "colab": {
          "base_uri": "https://localhost:8080/"
        },
        "id": "nQB1UTrkNht6",
        "outputId": "fdadffba-fe19-4ec2-a454-0d55c812a868"
      },
      "execution_count": null,
      "outputs": [
        {
          "output_type": "stream",
          "name": "stdout",
          "text": [
            "[2024-11-18 17:36:35.905634] Email sent to user1@example.com\n",
            "[2024-11-18 17:36:35.910445] Email sent to user1@example.com\n",
            "[2024-11-18 17:36:36.111986] Email sent to ayantikanandi9163@gmail.com\n",
            "[2024-11-18 17:36:37.118359] Email sent to user2@example.com\n",
            "[2024-11-18 17:36:37.122984] Email sent to user2@example.com\n",
            "[2024-11-18 17:36:38.340058] Email sent to user3@example.com\n",
            "[2024-11-18 17:36:38.346222] Email sent to user3@example.com\n",
            "[2024-11-18 17:36:41.338533] Email sent to ayantika_nandimca2023@msit.edu.in\n",
            "[2024-11-18 17:36:41.552546] Email sent to ayantikanandi9163@gmail.com[2024-11-18 17:36:41.552729] Email sent to ayantikanandi9163@gmail.com\n",
            "\n",
            "[2024-11-18 17:36:43.777291] Email sent to pritypaul9765@gmail.com\n",
            "[2024-11-18 17:36:43.779422] Email sent to pritypaul9765@gmail.com\n",
            "[2024-11-18 17:36:44.986988] Email sent to ayantika_nandimca2023@msit.edu.in\n",
            "[2024-11-18 17:36:44.988806] Email sent to ayantika_nandimca2023@msit.edu.in\n",
            "[2024-11-18 17:36:46.193823] Email sent to user1@example.com\n",
            "[2024-11-18 17:36:46.199389] Email sent to user1@example.com\n",
            "[2024-11-18 17:36:46.552946] Email sent to pritypaul9765@gmail.com\n",
            "[2024-11-18 17:36:47.404078] Email sent to user2@example.com\n",
            "[2024-11-18 17:36:47.405362] Email sent to user2@example.com\n",
            "[2024-11-18 17:36:48.625391] Email sent to user3@example.com\n",
            "[2024-11-18 17:36:48.634231] Email sent to user3@example.com\n",
            "All emails processed. Exiting analytics display.\n"
          ]
        }
      ]
    },
    {
      "cell_type": "code",
      "source": [
        "from flask import Flask, request, jsonify\n",
        "import json\n",
        "\n",
        "app = Flask(__name__)\n",
        "\n",
        "# Dictionary to store email statuses\n",
        "email_statuses = {}\n",
        "\n",
        "@app.route('/webhook', methods=['POST'])\n",
        "def webhook():\n",
        "    data = request.json\n",
        "    email = data.get(\"email\")\n",
        "    event = data.get(\"event\")\n",
        "\n",
        "    # Update the email status\n",
        "    if email:\n",
        "        email_statuses[email] = {\n",
        "            \"event\": event,\n",
        "            \"timestamp\": data.get(\"date\", \"N/A\")\n",
        "        }\n",
        "        print(f\"Updated status for {email}: {event}\")\n",
        "\n",
        "    return jsonify({\"status\": \"success\"}), 200\n",
        "\n",
        "# Example route to display statuses\n",
        "@app.route('/statuses', methods=['GET'])\n",
        "def statuses():\n",
        "    return jsonify(email_statuses)\n",
        "\n",
        "if __name__ == '__main__':\n",
        "    app.run(port=5000)\n"
      ],
      "metadata": {
        "id": "jHjbtbg0VvXA"
      },
      "execution_count": null,
      "outputs": []
    }
  ],
  "metadata": {
    "colab": {
      "provenance": [],
      "authorship_tag": "ABX9TyOaZ9w+v6ds7JypxP/d4Cgt",
      "include_colab_link": true
    },
    "kernelspec": {
      "display_name": "Python 3",
      "name": "python3"
    },
    "language_info": {
      "name": "python"
    }
  },
  "nbformat": 4,
  "nbformat_minor": 0
}